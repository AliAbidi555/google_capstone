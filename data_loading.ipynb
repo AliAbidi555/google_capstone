{
 "cells": [
  {
   "cell_type": "code",
   "execution_count": null,
   "id": "1f5e1661-329d-499b-969b-f6f2beb48532",
   "metadata": {},
   "outputs": [],
   "source": [
    "import numpy as np\n",
    "import matplotlib.pyplot as plt\n",
    "import pandas as pd\n",
    "import requests\n",
    "import zipfile\n",
    "import os\n",
    "import shutil\n",
    "import glob\n",
    "direc = 'C:\\\\Users\\\\mohda\\\\Documents\\\\google_analytics\\\\google_analytics_bike_sharing'\n",
    "os.chdir(direc) "
   ]
  },
  {
   "cell_type": "code",
   "execution_count": null,
   "id": "5705519e-b6ef-45c3-962d-ac6248bd9cb2",
   "metadata": {},
   "outputs": [],
   "source": [
    "\n",
    "#Extract all files\n",
    "# extension = \".zip\"\n",
    "# direc = 'C:\\\\Users\\\\mohda\\\\Documents\\\\google_analytics\\\\google_analytics_bike_sharing\\\\raw_data'\n",
    "# os.chdir(direc) \n",
    "\n",
    "# for item in os.listdir(): # loop through items in dir\n",
    "#     if item.endswith(extension): # check for \".zip\" extension\n",
    "#         file_name = os.path.abspath(item) # get full path of files\n",
    "#         zip_ref = zipfile.ZipFile(file_name) # create zipfile object\n",
    "#         zip_ref.extractall(\"raw_data/csvs/\") # extract file to dir\n",
    "#         zip_ref.close() # close file\n",
    "#         os.remove(file_name) # delete zipped file\\\n",
    "\n",
    "#Copy all these files\n",
    "\n",
    "# for root, dirs, files in os.walk('raw_data/csvs/'):  # replace the . with your starting directory\n",
    "#    for file in files:\n",
    "#       path_file = os.path.join(root,file)\n",
    "#       shutil.copy2(path_file,'raw_data/') # change you destination dir\n",
    "# missing_value_dfCSV files open\n",
    "# files = os.path.join(\"raw_data/\", \"*.csv\")\n",
    "                     \n",
    "                     \n",
    "# files\n",
    "# files = glob.glob(files)\n",
    "\n",
    "# print(\"Resultant CSV after joining all CSV files at a particular location...\");\n",
    "\n",
    "# # joining files with concat and read_csv\n",
    "# df = pd.concat(map(pd.read_csv, files), ignore_index=True)\n",
    "# print(df)\n",
    "# df.to_csv(\"raw_data/final_dataset.csv\")\n",
    "# df = df.dropna(how='all')\n",
    "# df.to_csv(\"raw_data/final_dataset.csv\")\n",
    "# # df = df.dropna(subset=['ride_id'])\n",
    "# percent_missing = df.isnull().sum() * 100 / len(df)\n",
    "# missing_value_df = pd.DataFrame({'column_name': df.columns,\n",
    "#                                  'percent_missing': percent_missing})\n",
    "# missing_value_df[missing_value_df['percent_missing']<100]['column_name'].tolist()\n",
    "\n",
    "# df = df[['ride_id',\n",
    "#  'rideable_type',\n",
    "#  'started_at',\n",
    "#  'ended_at',\n",
    "#  'start_station_name',\n",
    "#  'start_station_id',\n",
    "#  'end_station_name',\n",
    "#  'end_station_id',\n",
    "#  'start_lat',\n",
    "#  'start_lng',\n",
    "#  'end_lat',\n",
    "#  'end_lng',\n",
    "#  'member_casual']]"
   ]
  },
  {
   "cell_type": "code",
   "execution_count": 71,
   "id": "7847d220-b8fe-4618-9bab-a1d55e30f8f0",
   "metadata": {},
   "outputs": [],
   "source": [
    "\n",
    "del df"
   ]
  },
  {
   "cell_type": "code",
   "execution_count": 47,
   "id": "dde79077-b207-4d95-9139-d4ffd0225f18",
   "metadata": {},
   "outputs": [
    {
     "data": {
      "text/plain": [
       "'raw_data/*.csv'"
      ]
     },
     "execution_count": 47,
     "metadata": {},
     "output_type": "execute_result"
    }
   ],
   "source": []
  },
  {
   "cell_type": "code",
   "execution_count": null,
   "id": "3279f3e2-9c9d-46ff-9843-7ce553dff2e0",
   "metadata": {},
   "outputs": [],
   "source": []
  },
  {
   "cell_type": "code",
   "execution_count": 49,
   "id": "294d526b-3470-485e-bf94-278b9193bc1a",
   "metadata": {},
   "outputs": [],
   "source": []
  },
  {
   "cell_type": "code",
   "execution_count": 57,
   "id": "b5fb5a83-9199-429a-afe6-2f6e9ccf12d2",
   "metadata": {},
   "outputs": [
    {
     "data": {
      "text/plain": [
       "Index(['ride_id', 'rideable_type', 'started_at', 'ended_at',\n",
       "       'start_station_name', 'start_station_id', 'end_station_name',\n",
       "       'end_station_id', 'start_lat', 'start_lng', 'end_lat', 'end_lng',\n",
       "       'member_casual', 'id', 'name', 'latitude', 'longitude', 'dpcapacity',\n",
       "       'landmark', 'online date', 'trip_id', 'starttime', 'stoptime', 'bikeid',\n",
       "       'tripduration', 'from_station_id', 'from_station_name', 'to_station_id',\n",
       "       'to_station_name', 'usertype', 'gender', 'birthday', 'birthyear',\n",
       "       'start_time', 'end_time', '01 - Rental Details Rental ID',\n",
       "       '01 - Rental Details Local Start Time',\n",
       "       '01 - Rental Details Local End Time', '01 - Rental Details Bike ID',\n",
       "       '01 - Rental Details Duration In Seconds Uncapped',\n",
       "       '03 - Rental Start Station ID', '03 - Rental Start Station Name',\n",
       "       '02 - Rental End Station ID', '02 - Rental End Station Name',\n",
       "       'User Type', 'Member Gender',\n",
       "       '05 - Member Details Member Birthday Year', 'Unnamed: 0', 'dateCreated',\n",
       "       'online_date', 'city', 'Unnamed: 7'],\n",
       "      dtype='object')"
      ]
     },
     "execution_count": 57,
     "metadata": {},
     "output_type": "execute_result"
    }
   ],
   "source": []
  },
  {
   "cell_type": "code",
   "execution_count": 58,
   "id": "0c841a64-5c38-4109-9ba1-f8f550b74155",
   "metadata": {},
   "outputs": [],
   "source": []
  },
  {
   "cell_type": "code",
   "execution_count": 63,
   "id": "5888c9c4-526b-4c7f-927f-a8ca2509df8c",
   "metadata": {},
   "outputs": [],
   "source": []
  },
  {
   "cell_type": "code",
   "execution_count": 64,
   "id": "2f5f8a43-7c17-4732-a2a4-9cd52488947d",
   "metadata": {},
   "outputs": [],
   "source": []
  },
  {
   "cell_type": "code",
   "execution_count": 69,
   "id": "8555f3a7-a471-4a8e-bcbe-ca6b653c6ccb",
   "metadata": {},
   "outputs": [],
   "source": []
  },
  {
   "cell_type": "code",
   "execution_count": 70,
   "id": "54c0dd9a-82a4-41d2-ab27-7da068086efe",
   "metadata": {},
   "outputs": [],
   "source": []
  },
  {
   "cell_type": "code",
   "execution_count": null,
   "id": "c2408ab4-da7a-4e28-8a4e-020dbdc6796d",
   "metadata": {},
   "outputs": [],
   "source": []
  }
 ],
 "metadata": {
  "kernelspec": {
   "display_name": "Python 3",
   "language": "python",
   "name": "python3"
  },
  "language_info": {
   "codemirror_mode": {
    "name": "ipython",
    "version": 3
   },
   "file_extension": ".py",
   "mimetype": "text/x-python",
   "name": "python",
   "nbconvert_exporter": "python",
   "pygments_lexer": "ipython3",
   "version": "3.8.8"
  }
 },
 "nbformat": 4,
 "nbformat_minor": 5
}
